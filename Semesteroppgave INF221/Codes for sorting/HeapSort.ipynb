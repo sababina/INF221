{
 "cells": [
  {
   "cell_type": "markdown",
   "metadata": {},
   "source": [
    "### Importing the necessary modules to perform a benchmark analysis on HeapSort algorithm"
   ]
  },
  {
   "cell_type": "code",
   "execution_count": 28,
   "metadata": {},
   "outputs": [],
   "source": [
    "import random\n",
    "import numpy as np\n",
    "import timeit\n",
    "import copy\n",
    "import pandas\n",
    "import matplotlib\n",
    "import matplotlib.pyplot as plt\n",
    "from tqdm import tqdm"
   ]
  },
  {
   "cell_type": "markdown",
   "metadata": {},
   "source": [
    "### Implementing the Heapsort algorithm"
   ]
  },
  {
   "cell_type": "code",
   "execution_count": 29,
   "metadata": {},
   "outputs": [],
   "source": [
    "def heapSort(data): \n",
    "    \"\"\"\n",
    "    Implementation of heapSort\n",
    "    Creates a binary heap from the array and then iterates through \n",
    "    it to get the sorted array\n",
    "    \"\"\"\n",
    "    n = len(data) \n",
    "\n",
    "    for i in range(n, -1, -1): \n",
    "        heapify(data, n, i) \n",
    "\n",
    "    for i in range(n-1, 0, -1): \n",
    "        data[i], data[0] = data[0], data[i] # swap \n",
    "        heapify(data, i, 0) \n",
    "\n",
    "\n",
    "def heapify(data, n, i): \n",
    "    \"\"\"\n",
    "    Turns the list into a max heap\n",
    "    \"\"\"\n",
    "    largest = i \n",
    "    l = 2 * i + 1 \n",
    "    r = 2 * i + 2 \n",
    "\n",
    "    if l < n and data[i] < data[l]: \n",
    "        largest = l \n",
    "\n",
    "    if r < n and data[largest] < data[r]: \n",
    "        largest = r \n",
    "\n",
    "    if largest != i: \n",
    "        data[i],data[largest] = data[largest],data[i]\n",
    "\n",
    "        heapify(data, n, largest) "
   ]
  },
  {
   "cell_type": "markdown",
   "metadata": {},
   "source": [
    "### Testing the HeapSort algorithm"
   ]
  },
  {
   "cell_type": "code",
   "execution_count": 30,
   "metadata": {},
   "outputs": [],
   "source": [
    "def test_sorting_algorithm(algorithm): \n",
    "    \"\"\"\n",
    "    Function to test the correctness of a sorting algorithm\n",
    "    Generating numpy array with random integers to be tested on\n",
    "    Tests it 10 times and then i assume that it is correct\n",
    "    \"\"\"\n",
    "    for i in range(1000):\n",
    "        A = np.random.randint(1000, size=100)\n",
    "        A_copy = A.copy()\n",
    "        algorithm(A_copy)      \n",
    "        assert A_copy.tolist() == sorted(A), 'The implementation of %s is wrong'% (algorithm.__name__)"
   ]
  },
  {
   "cell_type": "code",
   "execution_count": 31,
   "metadata": {},
   "outputs": [],
   "source": [
    "test_sorting_algorithm(heapSort)"
   ]
  },
  {
   "cell_type": "markdown",
   "metadata": {},
   "source": [
    "### Generating test data"
   ]
  },
  {
   "cell_type": "code",
   "execution_count": 32,
   "metadata": {},
   "outputs": [],
   "source": [
    "def ascending_list_int(n):\n",
    "    \"\"\"\n",
    "    Returns a ascending list with values from 0 to n with length n\n",
    "    \"\"\"\n",
    "    List = [i for i in range(n)]\n",
    "    return List\n",
    "\n",
    "def descending_list_int(n):\n",
    "    \"\"\"\n",
    "    Returns a descending list with values from n to 0 with length n\n",
    "    \"\"\"\n",
    "    List = [i for i in range(n - 1, -1, -1)]\n",
    "    return List\n",
    "\n",
    "def random_list_int(n):\n",
    "    \"\"\"\n",
    "    Returns a list of random integers from -n to n with length n\n",
    "    \"\"\"\n",
    "    List = [random.randint(-n, n) for _ in range(n)]\n",
    "    return List\n",
    "  \n",
    "def random_list_float(n):\n",
    "    \"\"\"\n",
    "    Returns a list of length n with random float values from -n to n\n",
    "    \"\"\"\n",
    "    List = [random.uniform(-n, n) for _ in range(n)]\n",
    "    return List\n",
    "\n",
    "\n",
    "def random_charlist(n):\n",
    "    \"\"\"\n",
    "    Returns a list of length n with random characters\n",
    "    \"\"\"\n",
    "    List = [random.choice('abcdefghisjklmnopqrstuvwxyz') \n",
    "                 for _ in range(n)]\n",
    "    \n",
    "    return List\n",
    "\n",
    "test_data_list = [ascending_list_int, descending_list_int, random_list_int, random_list_float, random_charlist]"
   ]
  },
  {
   "cell_type": "markdown",
   "metadata": {},
   "source": [
    "### Determining the running time per iteration for the algorithm"
   ]
  },
  {
   "cell_type": "code",
   "execution_count": 33,
   "metadata": {},
   "outputs": [],
   "source": [
    "def time_function(sort_function, test_data):\n",
    "    \"\"\"\n",
    "    Actual function which does the timing\n",
    "    \"\"\"\n",
    "    clock = timeit.Timer('func(copy(data))',\n",
    "                       globals={'func': sort_function, 'data': test_data, \n",
    "                                'copy': copy.copy})\n",
    "\n",
    "    n_ar, t_ar = clock.autorange()\n",
    "    \n",
    "    data = np.array(clock.repeat(repeat=7, number=n_ar)) / n_ar\n",
    "    \n",
    "    sort = pandas.DataFrame(data)\n",
    "    \n",
    "    sort.to_pickle(\"heap_sort_times\")\n",
    "    \n",
    "    return np.min(data)"
   ]
  },
  {
   "cell_type": "markdown",
   "metadata": {},
   "source": [
    "### Performing benchmark analysis on the algorithm"
   ]
  },
  {
   "cell_type": "code",
   "execution_count": 34,
   "metadata": {},
   "outputs": [
    {
     "name": "stderr",
     "output_type": "stream",
     "text": [
      "100%|██████████| 5/5 [02:03<00:00, 29.81s/it]\n"
     ]
    }
   ],
   "source": [
    "test_sizes = [10, 100, 1000, 10000, 100000]\n",
    "\n",
    "def benchmark_function(sort_function):\n",
    "    data1 = [[], []]\n",
    "    data2 = [[], []]\n",
    "    data3 = [[], []]\n",
    "    data4 = [[], []]\n",
    "    data5 = [[], []]\n",
    "   \n",
    "    for size in tqdm(test_sizes):\n",
    "        data1[0].append(size) \n",
    "        data2[0].append(size)\n",
    "        data3[0].append(size) \n",
    "        data4[0].append(size), \n",
    "        data5[0].append(size)     \n",
    "        data1[1].append(time_function(sort_function,ascending_list_int(size)))\n",
    "        data2[1].append(time_function(sort_function,descending_list_int(size)))\n",
    "        data3[1].append(time_function(sort_function,random_list_int(size)))\n",
    "        data4[1].append(time_function(sort_function,random_list_float(size)))\n",
    "        data5[1].append(time_function(sort_function,random_charlist(size)))\n",
    "    \n",
    "    all_data = [data1, data2, data3, data4, data5]\n",
    "    \n",
    "    heap_sort = pandas.DataFrame(all_data)\n",
    "    \n",
    "    heap_sort.to_pickle(\"heap_sort\")\n",
    "    \n",
    "    return all_data\n",
    "\n",
    "benchmark_heap = benchmark_function(heapSort)"
   ]
  },
  {
   "cell_type": "code",
   "execution_count": null,
   "metadata": {},
   "outputs": [],
   "source": []
  }
 ],
 "metadata": {
  "kernelspec": {
   "display_name": "Python 3",
   "language": "python",
   "name": "python3"
  },
  "language_info": {
   "codemirror_mode": {
    "name": "ipython",
    "version": 3
   },
   "file_extension": ".py",
   "mimetype": "text/x-python",
   "name": "python",
   "nbconvert_exporter": "python",
   "pygments_lexer": "ipython3",
   "version": "3.7.3"
  }
 },
 "nbformat": 4,
 "nbformat_minor": 2
}
