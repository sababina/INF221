{
 "cells": [
  {
   "cell_type": "markdown",
   "metadata": {},
   "source": [
    "### importing the necessary modules to perform a benchmark analysis on the Merge Sort algorithm"
   ]
  },
  {
   "cell_type": "code",
   "execution_count": 31,
   "metadata": {},
   "outputs": [],
   "source": [
    "import random\n",
    "import numpy as np\n",
    "import timeit\n",
    "import copy\n",
    "import pandas\n",
    "import matplotlib\n",
    "import matplotlib.pyplot as plt\n",
    "from tqdm import tqdm\n",
    "import math"
   ]
  },
  {
   "cell_type": "markdown",
   "metadata": {},
   "source": [
    "### Implementing the Merge Sort algorithm"
   ]
  },
  {
   "cell_type": "code",
   "execution_count": 32,
   "metadata": {},
   "outputs": [],
   "source": [
    "def mergeSort(m):\n",
    "\n",
    "    length = len(m)\n",
    "\n",
    "    if length == 1:\n",
    "        return m\n",
    "\n",
    "    mid = int(math.floor(length / 2))\n",
    "\n",
    "    left = mergeSort(m[0:mid])\n",
    "    right = mergeSort(m[mid:length])\n",
    "\n",
    "    return merge(left, right)\n",
    "\n",
    "def merge(left, right):\n",
    "\n",
    "    merged = []\n",
    "\n",
    "    # while at least one list has elements\n",
    "    while left or right:\n",
    "\n",
    "        if left and right:\n",
    "            if left[0] <= right[0]:\n",
    "                key = left.pop(0)\n",
    "            else:\n",
    "                key = right.pop(0)\n",
    "        elif left:\n",
    "            key = left.pop(0)\n",
    "        else:\n",
    "            key = right.pop(0)\n",
    "\n",
    "        merged.append(key)\n",
    "\n",
    "    return merged"
   ]
  },
  {
   "cell_type": "markdown",
   "metadata": {},
   "source": [
    "### Testing the sorting algorithm"
   ]
  },
  {
   "cell_type": "code",
   "execution_count": 33,
   "metadata": {},
   "outputs": [],
   "source": [
    "def test_sorting_algorithm(algorithm): \n",
    "    \"\"\"\n",
    "    Function to test the correctness of a sorting algorithm\n",
    "    Generating numpy array with random integers to be tested on\n",
    "    Tests it 10 times and then i assume that it is correct\n",
    "    \"\"\"\n",
    "    for i in range(1000):\n",
    "        L = [random.randint(0, 1000) for _ in range(100)]\n",
    "        L_copy = L.copy()\n",
    "        L_sorted = algorithm(L_copy)      \n",
    "        assert L_sorted == sorted(L), 'The implementation of %s is wrong'% (algorithm.__name__)"
   ]
  },
  {
   "cell_type": "code",
   "execution_count": 34,
   "metadata": {},
   "outputs": [],
   "source": [
    "test_sorting_algorithm(mergeSort)"
   ]
  },
  {
   "cell_type": "markdown",
   "metadata": {},
   "source": [
    "### Generating test data"
   ]
  },
  {
   "cell_type": "code",
   "execution_count": 35,
   "metadata": {},
   "outputs": [],
   "source": [
    "def ascending_list_int(n):\n",
    "    \"\"\"\n",
    "    Returns a ascending list with values from 0 to n with length n\n",
    "    \"\"\"\n",
    "    List = [i for i in range(n)]\n",
    "    return List\n",
    "\n",
    "def descending_list_int(n):\n",
    "    \"\"\"\n",
    "    Returns a descending list with values from n to 0 with length n\n",
    "    \"\"\"\n",
    "    List = [i for i in range(n - 1, -1, -1)]\n",
    "    return List\n",
    "\n",
    "def random_list_int(n):\n",
    "    \"\"\"\n",
    "    Returns a list of random integers from -n to n with length n\n",
    "    \"\"\"\n",
    "    List = [random.randint(-n, n) for _ in range(n)]\n",
    "    return List\n",
    "  \n",
    "def random_list_float(n):\n",
    "    \"\"\"\n",
    "    Returns a list of length n with random float values from -n to n\n",
    "    \"\"\"\n",
    "    List = [random.uniform(-n, n) for _ in range(n)]\n",
    "    return List\n",
    "\n",
    "\n",
    "def random_charlist(n):\n",
    "    \"\"\"\n",
    "    Returns a list of length n with random characters\n",
    "    \"\"\"\n",
    "    List = [random.choice('abcdefghisjklmnopqrstuvwxyz') \n",
    "                 for _ in range(n)]\n",
    "    \n",
    "    return List\n",
    "\n",
    "test_data_list = [ascending_list_int, descending_list_int, random_list_int, random_list_float, random_charlist]"
   ]
  },
  {
   "cell_type": "markdown",
   "metadata": {},
   "source": [
    "### Determining the running time per iteration for the algorithm"
   ]
  },
  {
   "cell_type": "code",
   "execution_count": 36,
   "metadata": {},
   "outputs": [],
   "source": [
    "def time_function(sort_function, test_data):\n",
    "    \"\"\"\n",
    "    Actual function which does the timing\n",
    "    \"\"\"\n",
    "    clock = timeit.Timer('func(copy(data))',\n",
    "                       globals={'func': sort_function, 'data': test_data, \n",
    "                                'copy': copy.copy})\n",
    "\n",
    "    n_ar, t_ar = clock.autorange()\n",
    "    \n",
    "    data = np.array(clock.repeat(repeat=7, number=n_ar)) / n_ar\n",
    "    \n",
    "    sort = pandas.DataFrame(data)\n",
    "    sort.to_pickle(\"merge_sort_times\")\n",
    "    \n",
    "    return np.min(data)"
   ]
  },
  {
   "cell_type": "markdown",
   "metadata": {},
   "source": [
    "### Performing benchmark analysis on the algorithm"
   ]
  },
  {
   "cell_type": "code",
   "execution_count": 37,
   "metadata": {},
   "outputs": [
    {
     "name": "stderr",
     "output_type": "stream",
     "text": [
      "100%|██████████| 5/5 [02:53<00:00, 45.28s/it]\n"
     ]
    }
   ],
   "source": [
    "test_sizes = [10, 100, 1000, 10000, 100000]\n",
    "\n",
    "def benchmark_function(sort_function):\n",
    "    data1 = [[], []]\n",
    "    data2 = [[], []]\n",
    "    data3 = [[], []]\n",
    "    data4 = [[], []]\n",
    "    data5 = [[], []]\n",
    "    \n",
    "    for size in tqdm(test_sizes):\n",
    "        data1[0].append(size) \n",
    "        data2[0].append(size)\n",
    "        data3[0].append(size) \n",
    "        data4[0].append(size), \n",
    "        data5[0].append(size) \n",
    "        data1[1].append(time_function(sort_function,ascending_list_int(size)))\n",
    "        data2[1].append(time_function(sort_function,descending_list_int(size)))\n",
    "        data3[1].append(time_function(sort_function,random_list_int(size)))\n",
    "        data4[1].append(time_function(sort_function,random_list_float(size)))\n",
    "        data5[1].append(time_function(sort_function,random_charlist(size)))\n",
    "      \n",
    "    \n",
    "    all_data = [data1, data2, data3, data4, data5]\n",
    "    \n",
    "    merge_sort = pandas.DataFrame(all_data)\n",
    "    \n",
    "    merge_sort.to_pickle(\"merge_sort\")\n",
    "    \n",
    "    return all_data\n",
    "\n",
    "benchmark_merge = benchmark_function(mergeSort)"
   ]
  },
  {
   "cell_type": "code",
   "execution_count": null,
   "metadata": {},
   "outputs": [],
   "source": []
  }
 ],
 "metadata": {
  "kernelspec": {
   "display_name": "Python 3",
   "language": "python",
   "name": "python3"
  },
  "language_info": {
   "codemirror_mode": {
    "name": "ipython",
    "version": 3
   },
   "file_extension": ".py",
   "mimetype": "text/x-python",
   "name": "python",
   "nbconvert_exporter": "python",
   "pygments_lexer": "ipython3",
   "version": "3.7.3"
  }
 },
 "nbformat": 4,
 "nbformat_minor": 2
}
