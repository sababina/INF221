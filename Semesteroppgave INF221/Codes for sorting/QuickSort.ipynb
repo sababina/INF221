{
 "cells": [
  {
   "cell_type": "markdown",
   "metadata": {},
   "source": [
    "# QuickSort"
   ]
  },
  {
   "cell_type": "markdown",
   "metadata": {},
   "source": [
    "#### We start with importing code we might use to do the benchmarking"
   ]
  },
  {
   "cell_type": "code",
   "execution_count": 10,
   "metadata": {},
   "outputs": [],
   "source": [
    "import random\n",
    "import numpy as np\n",
    "import timeit\n",
    "import copy\n",
    "import pandas\n",
    "import matplotlib\n",
    "import matplotlib.pyplot as plt\n",
    "import math\n",
    "from tqdm import tqdm"
   ]
  },
  {
   "cell_type": "markdown",
   "metadata": {},
   "source": [
    "#### Then we implement the QuickSort code"
   ]
  },
  {
   "cell_type": "code",
   "execution_count": 11,
   "metadata": {},
   "outputs": [],
   "source": [
    "def partition(arr,l,h): \n",
    "    \"\"\"\n",
    "    Finding the pivot\n",
    "    \"\"\"\n",
    "    i = ( l - 1 ) \n",
    "    x = arr[h] \n",
    "    for j in range(l , h): \n",
    "        if arr[j] <= x: \n",
    "            # increment index of smaller element \n",
    "            i = i+1\n",
    "            arr[i],arr[j] = arr[j],arr[i] \n",
    "\n",
    "    arr[i+1],arr[h] = arr[h],arr[i+1] \n",
    "    return (i+1) \n",
    "  \n",
    "# Function to do Quick sort \n",
    "# arr[] --> Array to be sorted, \n",
    "# l  --> Starting index, \n",
    "# h  --> Ending index \n",
    "def quickSortIterative(arr,l,h): \n",
    "    \"\"\"\n",
    "    Iterative implementation of quick sort\n",
    "    \"\"\"\n",
    "    # Create an auxiliary stack \n",
    "    size = h - l + 1\n",
    "    stack = [0] * (size) \n",
    "  \n",
    "    # initialize top of stack \n",
    "    top = -1\n",
    "  \n",
    "    # push initial values of l and h to stack \n",
    "    top = top + 1\n",
    "    stack[top] = l \n",
    "    top = top + 1\n",
    "    stack[top] = h \n",
    "  \n",
    "    # Keep popping from stack while is not empty \n",
    "    while top >= 0: \n",
    "  \n",
    "        # Pop h and l \n",
    "        h = stack[top] \n",
    "        top = top - 1\n",
    "        l = stack[top] \n",
    "        top = top - 1\n",
    "  \n",
    "        # Set pivot element at its correct position in \n",
    "        # sorted array \n",
    "        p = partition( arr, l, h ) \n",
    "  \n",
    "        # If there are elements on left side of pivot, \n",
    "        # then push left side to stack \n",
    "        if p-1 > l: \n",
    "            top = top + 1\n",
    "            stack[top] = l \n",
    "            top = top + 1\n",
    "            stack[top] = p - 1\n",
    "  \n",
    "        # If there are elements on right side of pivot, \n",
    "        # then push right side to stack \n",
    "        if p+1 < h: \n",
    "            top = top + 1\n",
    "            stack[top] = p + 1\n",
    "            top = top + 1\n",
    "            stack[top] = h \n",
    "\n",
    "def quicksort(data):\n",
    "    \"\"\"\n",
    "    Implementation of quick sort which immediatly calls a helper function\n",
    "    \"\"\"\n",
    "    quickSortIterative(data, 0, len(data)-1)"
   ]
  },
  {
   "cell_type": "markdown",
   "metadata": {},
   "source": [
    "#### Then we make a function that test if our implement of the code i working as it should"
   ]
  },
  {
   "cell_type": "code",
   "execution_count": 12,
   "metadata": {},
   "outputs": [],
   "source": [
    "def test_sorting_algorithm(algorithm): \n",
    "    \"\"\"\n",
    "    Function to test the correctness of a sorting algorithm\n",
    "    Generating numpy array with random integers to be tested on\n",
    "    Tests it 10 times and then i assume that it is correct\n",
    "    \"\"\"\n",
    "    for i in range(1000):\n",
    "        A = np.random.randint(1000, size=100)\n",
    "        A_copy = A.copy()\n",
    "        algorithm(A_copy)      \n",
    "        assert A_copy.tolist() == sorted(A), 'The implementation of %s is wrong'% (algorithm.__name__)"
   ]
  },
  {
   "cell_type": "code",
   "execution_count": 13,
   "metadata": {},
   "outputs": [],
   "source": [
    "test_sorting_algorithm(quicksort)"
   ]
  },
  {
   "cell_type": "markdown",
   "metadata": {},
   "source": [
    "#### In the benchmarking we will need random generated data, so we will make som functions that gives us diffrent kind of random genreated data. This will test the sort funciton for best, worst and avrage case"
   ]
  },
  {
   "cell_type": "code",
   "execution_count": 14,
   "metadata": {},
   "outputs": [],
   "source": [
    "def ascending_list_int(n):\n",
    "    \"\"\"\n",
    "    Returns a ascending list with values from 0 to n with length n\n",
    "    \"\"\"\n",
    "    List = [i for i in range(n)]\n",
    "    return List\n",
    "\n",
    "def descending_list_int(n):\n",
    "    \"\"\"\n",
    "    Returns a descending list with values from n to 0 with length n\n",
    "    \"\"\"\n",
    "    List = [i for i in range(n - 1, -1, -1)]\n",
    "    return List\n",
    "\n",
    "def random_list_int(n):\n",
    "    \"\"\"\n",
    "    Returns a list of random integers from -n to n with length n\n",
    "    \"\"\"\n",
    "    List = [random.randint(-n, n) for _ in range(n)]\n",
    "    return List\n",
    "  \n",
    "def random_list_float(n):\n",
    "    \"\"\"\n",
    "    Returns a list of length n with random float values from -n to n\n",
    "    \"\"\"\n",
    "    List = [random.uniform(-n, n) for _ in range(n)]\n",
    "    return List\n",
    "\n",
    "\n",
    "def random_charlist(n):\n",
    "    \"\"\"\n",
    "    Returns a list of length n with random characters\n",
    "    \"\"\"\n",
    "    List = [random.choice('abcdefghisjklmnopqrstuvwxyz') \n",
    "                 for _ in range(n)]\n",
    "    \n",
    "    return List\n",
    "\n",
    "test_data_list = [ascending_list_int, descending_list_int, random_list_int, random_list_float, random_charlist]"
   ]
  },
  {
   "cell_type": "markdown",
   "metadata": {},
   "source": [
    "#### Making the time function that will time the sort function for the benchmarking"
   ]
  },
  {
   "cell_type": "code",
   "execution_count": 15,
   "metadata": {},
   "outputs": [],
   "source": [
    "def time_function(sort_function, test_data):\n",
    "    \"\"\"\n",
    "    Actual function which does the timing\n",
    "    \"\"\"\n",
    "    clock = timeit.Timer('func(copy(data))',\n",
    "                       globals={'func': sort_function, 'data': test_data, \n",
    "                                'copy': copy.copy})\n",
    "    \n",
    "\n",
    "    n_ar, t_ar = clock.autorange()\n",
    "    \n",
    "    data = np.array(clock.repeat(repeat=7, number=n_ar)) / n_ar\n",
    "    \n",
    "    sort = pandas.DataFrame(data)\n",
    "    sort.to_pickle(\"quick_sort_times\")\n",
    "    \n",
    "    return np.min(data)"
   ]
  },
  {
   "cell_type": "markdown",
   "metadata": {},
   "source": [
    "#### Function that does the benchmarking"
   ]
  },
  {
   "cell_type": "code",
   "execution_count": 16,
   "metadata": {},
   "outputs": [
    {
     "name": "stderr",
     "output_type": "stream",
     "text": [
      "\n",
      "  0%|          | 0/5 [00:00<?, ?it/s]\u001b[A\n",
      " 20%|██        | 1/5 [00:06<00:27,  6.79s/it]\u001b[A\n",
      " 40%|████      | 2/5 [00:14<00:21,  7.02s/it]\u001b[A\n",
      " 60%|██████    | 3/5 [00:20<00:13,  6.72s/it]\u001b[A\n",
      " 80%|████████  | 4/5 [00:32<00:08,  8.37s/it]\u001b[A\n",
      "100%|██████████| 5/5 [11:02<00:00, 194.80s/it]\u001b[A\n",
      "  0%|          | 0/3 [00:00<?, ?it/s]\u001b[A\n",
      " 33%|███▎      | 1/3 [00:05<00:10,  5.42s/it]\u001b[A\n",
      " 67%|██████▋   | 2/3 [00:11<00:05,  5.48s/it]\u001b[A\n",
      "100%|██████████| 3/3 [00:16<00:00,  5.46s/it]\u001b[A"
     ]
    }
   ],
   "source": [
    "test_sizes = [10, 100, 1000, 10000, 100000]\n",
    "test_size2 = [10, 100, 1000]\n",
    "\n",
    "def benchmark_function(sort_function):\n",
    "    data1 = [[], []]\n",
    "    data2 = [[], []]\n",
    "    data3 = [[], []]\n",
    "    data4 = [[], []]\n",
    "    data5 = [[], []]\n",
    "   \n",
    "    for size in tqdm(test_sizes):\n",
    "        data3[0].append(size) \n",
    "        data4[0].append(size)\n",
    "        data5[0].append(size)\n",
    "        data3[1].append(time_function(sort_function,random_list_int(size)))\n",
    "        data4[1].append(time_function(sort_function,random_list_float(size)))\n",
    "        data5[1].append(time_function(sort_function,random_charlist(size)))\n",
    "    \n",
    "    for size in tqdm(test_size2):\n",
    "        data1[0].append(size) \n",
    "        data2[0].append(size)\n",
    "        data1[1].append(time_function(sort_function,ascending_list_int(size)))\n",
    "        data2[1].append(time_function(sort_function,descending_list_int(size)))\n",
    "       \n",
    "   \n",
    "    all_data = [data1, data2, data3, data4, data5]\n",
    "    \n",
    "    quick_sort = pandas.DataFrame(all_data)\n",
    "    \n",
    "    quick_sort.to_pickle(\"quick_sort\")\n",
    "    \n",
    "    return all_data\n",
    "\n",
    "benchmark_quick = benchmark_function(quicksort)"
   ]
  },
  {
   "cell_type": "code",
   "execution_count": null,
   "metadata": {},
   "outputs": [],
   "source": []
  }
 ],
 "metadata": {
  "kernelspec": {
   "display_name": "Python 3",
   "language": "python",
   "name": "python3"
  },
  "language_info": {
   "codemirror_mode": {
    "name": "ipython",
    "version": 3
   },
   "file_extension": ".py",
   "mimetype": "text/x-python",
   "name": "python",
   "nbconvert_exporter": "python",
   "pygments_lexer": "ipython3",
   "version": "3.7.3"
  }
 },
 "nbformat": 4,
 "nbformat_minor": 2
}
