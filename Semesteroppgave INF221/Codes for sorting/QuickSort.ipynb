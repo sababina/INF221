{
 "cells": [
  {
   "cell_type": "markdown",
   "metadata": {},
   "source": [
    "# QuickSort"
   ]
  },
  {
   "cell_type": "markdown",
   "metadata": {},
   "source": [
    "#### We start with importing code we might use to do the benchmarking"
   ]
  },
  {
   "cell_type": "code",
   "execution_count": 2,
   "metadata": {},
   "outputs": [],
   "source": [
    "import random\n",
    "import numpy as np\n",
    "import timeit\n",
    "import copy\n",
    "import pandas\n",
    "import matplotlib\n",
    "import matplotlib.pyplot as plt\n",
    "import math\n",
    "from tqdm import tqdm"
   ]
  },
  {
   "cell_type": "markdown",
   "metadata": {},
   "source": [
    "#### Then we implement the QuickSort code"
   ]
  },
  {
   "cell_type": "code",
   "execution_count": 3,
   "metadata": {},
   "outputs": [],
   "source": [
    "def partition(arr,low,high): \n",
    "    i = ( low-1 )         # index of smaller element \n",
    "    pivot = arr[high]     # pivot \n",
    "  \n",
    "    for j in range(low , high): \n",
    "  \n",
    "        # If current element is smaller than or \n",
    "        # equal to pivot \n",
    "        if   arr[j] <= pivot: \n",
    "          \n",
    "            # increment index of smaller element \n",
    "            i = i+1 \n",
    "            arr[i],arr[j] = arr[j],arr[i] \n",
    "  \n",
    "    arr[i+1],arr[high] = arr[high],arr[i+1] \n",
    "    return ( i+1 ) \n",
    "\n",
    "# Function to do Quick sort \n",
    "def quickSort(arr, low, high): \n",
    "    if low < high: \n",
    "  \n",
    "        # pi is partitioning index, arr[p] is now \n",
    "        # at right place \n",
    "        pi = partition(arr,low,high) \n",
    "  \n",
    "        # Separately sort elements before \n",
    "        # partition and after partition \n",
    "        quickSort(arr, low, pi-1) \n",
    "        quickSort(arr, pi+1, high) \n",
    "    return arr\n",
    "\n",
    "def quicksort(A):\n",
    "    return quickSort(A, 0, (len(A)-1))"
   ]
  },
  {
   "cell_type": "markdown",
   "metadata": {},
   "source": [
    "#### Then we make a function that test if our implement of the code i working as it should"
   ]
  },
  {
   "cell_type": "code",
   "execution_count": 4,
   "metadata": {},
   "outputs": [],
   "source": [
    "def test_sorting_algorithm(algorithm): \n",
    "    \"\"\"\n",
    "    Function to test the correctness of a sorting algorithm\n",
    "    Generating numpy array with random integers to be tested on\n",
    "    Tests it 10 times and then i assume that it is correct\n",
    "    \"\"\"\n",
    "    for i in range(1000):\n",
    "        A = np.random.randint(1000, size=100)\n",
    "        A_copy = A.copy()\n",
    "        algorithm(A_copy)      \n",
    "        assert A_copy.tolist() == sorted(A), 'The implementation of %s is wrong'% (algorithm.__name__)"
   ]
  },
  {
   "cell_type": "code",
   "execution_count": 5,
   "metadata": {},
   "outputs": [],
   "source": [
    "test_sorting_algorithm(quicksort)"
   ]
  },
  {
   "cell_type": "markdown",
   "metadata": {},
   "source": [
    "#### In the benchmarking we will need random generated data, so we will make som functions that gives us diffrent kind of random genreated data. This will test the sort funciton for best, worst and avrage case"
   ]
  },
  {
   "cell_type": "code",
   "execution_count": 6,
   "metadata": {},
   "outputs": [],
   "source": [
    "def ascending_list_int(n):\n",
    "    \"\"\"\n",
    "    Returns a ascending list with values from 0 to n with length n\n",
    "    \"\"\"\n",
    "    List = [i for i in range(n)]\n",
    "    return List\n",
    "\n",
    "def descending_list_int(n):\n",
    "    \"\"\"\n",
    "    Returns a descending list with values from n to 0 with length n\n",
    "    \"\"\"\n",
    "    List = [i for i in range(n - 1, -1, -1)]\n",
    "    return List\n",
    "\n",
    "def random_list_int(n):\n",
    "    \"\"\"\n",
    "    Returns a list of random integers from -n to n with length n\n",
    "    \"\"\"\n",
    "    List = [random.randint(-n, n) for _ in range(n)]\n",
    "    return List\n",
    "  \n",
    "def random_list_float(n):\n",
    "    \"\"\"\n",
    "    Returns a list of length n with random float values from -n to n\n",
    "    \"\"\"\n",
    "    List = [random.uniform(-n, n) for _ in range(n)]\n",
    "    return List\n",
    "\n",
    "\n",
    "def random_charlist(n):\n",
    "    \"\"\"\n",
    "    Returns a list of length n with random characters\n",
    "    \"\"\"\n",
    "    List = [random.choice('abcdefghisjklmnopqrstuvwxyz') \n",
    "                 for _ in range(n)]\n",
    "    \n",
    "    return List\n",
    "\n",
    "test_data_list = [ascending_list_int, descending_list_int, random_list_int, random_list_float, random_charlist]"
   ]
  },
  {
   "cell_type": "markdown",
   "metadata": {},
   "source": [
    "#### Making the time function that will time the sort function for the benchmarking"
   ]
  },
  {
   "cell_type": "code",
   "execution_count": 7,
   "metadata": {},
   "outputs": [],
   "source": [
    "def time_function(sort_function, test_data):\n",
    "    \"\"\"\n",
    "    Actual function which does the timing\n",
    "    \"\"\"\n",
    "    clock = timeit.Timer('func(copy(data))',\n",
    "                       globals={'func': sort_function, 'data': test_data, \n",
    "                                'copy': copy.copy})\n",
    "    \n",
    "\n",
    "    data = clock.repeat(repeat=5, number=10)\n",
    "    \n",
    "    sort = pandas.DataFrame(data)\n",
    "    sort.to_pickle(\"quick_sort_times\")\n",
    "    \n",
    "    return np.min(data)"
   ]
  },
  {
   "cell_type": "markdown",
   "metadata": {},
   "source": [
    "#### Function that does the benchmarking"
   ]
  },
  {
   "cell_type": "code",
   "execution_count": 9,
   "metadata": {},
   "outputs": [
    {
     "name": "stderr",
     "output_type": "stream",
     "text": [
      "100%|██████████| 5/5 [01:09<00:00, 20.22s/it]\n",
      "100%|██████████| 3/3 [00:15<00:00,  4.68s/it]\n"
     ]
    }
   ],
   "source": [
    "test_sizes = [10, 100, 1000, 10000, 100000]\n",
    "test_size2 = [10, 100, 1000]\n",
    "\n",
    "def benchmark_function(sort_function):\n",
    "    data1 = [[], []]\n",
    "    data2 = [[], []]\n",
    "    data3 = [[], []]\n",
    "    data4 = [[], []]\n",
    "    data5 = [[], []]\n",
    "   \n",
    "    for size in tqdm(test_sizes):\n",
    "        data3[0].append(size) \n",
    "        data4[0].append(size) \n",
    "        data3[1].append(time_function(sort_function,random_list_int(size)))\n",
    "        data4[1].append(time_function(sort_function,random_list_float(size)))\n",
    "    for size in tqdm(test_size2):\n",
    "        data1[0].append(size) \n",
    "        data2[0].append(size)\n",
    "        data5[0].append(size)\n",
    "        data1[1].append(time_function(sort_function,ascending_list_int(size)))\n",
    "        data2[1].append(time_function(sort_function,descending_list_int(size)))\n",
    "        data5[1].append(time_function(sort_function,random_charlist(size)))\n",
    "    \n",
    "   \n",
    "    all_data = [data1, data2, data3, data4, data5]\n",
    "    \n",
    "    quick_sort = pandas.DataFrame(all_data)\n",
    "    \n",
    "    quick_sort.to_pickle(\"quick_sort\")\n",
    "    \n",
    "    return all_data\n",
    "\n",
    "benchmark_quick = benchmark_function(quicksort)"
   ]
  }
 ],
 "metadata": {
  "kernelspec": {
   "display_name": "Python 3",
   "language": "python",
   "name": "python3"
  },
  "language_info": {
   "codemirror_mode": {
    "name": "ipython",
    "version": 3
   },
   "file_extension": ".py",
   "mimetype": "text/x-python",
   "name": "python",
   "nbconvert_exporter": "python",
   "pygments_lexer": "ipython3",
   "version": "3.7.3"
  }
 },
 "nbformat": 4,
 "nbformat_minor": 2
}
