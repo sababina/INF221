{
 "cells": [
  {
   "cell_type": "code",
   "execution_count": 30,
   "metadata": {},
   "outputs": [],
   "source": [
    "import matplotlib\n",
    "import matplotlib.pyplot as plt\n",
    "import copy\n",
    "\n",
    "import math\n",
    "import random\n",
    "import time\n",
    "import timeit\n",
    "import statistics\n",
    "\n",
    "import numpy as np\n",
    "import pandas\n",
    "from tqdm import tqdm"
   ]
  },
  {
   "cell_type": "code",
   "execution_count": 31,
   "metadata": {},
   "outputs": [],
   "source": [
    "def time_function(sort_function, test_data):\n",
    "    \n",
    "    clock = timeit.Timer('func(copy(data))',\n",
    "                        globals={'func': sort_function, 'data': test_data,\n",
    "                                'copy': copy.copy})\n",
    "    \n",
    "    n_ar, t_ar = clock.autorange()\n",
    "    \n",
    "    data = np.array(clock.repeat(repeat=7, number=n_ar)) / n_ar\n",
    "    \n",
    "    sort = pandas.DataFrame(data)\n",
    "    sort.to_pickle(\"numpy_sort_times\")\n",
    "    \n",
    "    return np.min(data)"
   ]
  },
  {
   "cell_type": "code",
   "execution_count": 32,
   "metadata": {},
   "outputs": [],
   "source": [
    "def time_function2(sort_function, test_data):\n",
    "    \n",
    "    clock = timeit.Timer('func(copy(data))',\n",
    "                        globals={'func': sort_function, 'data': test_data,\n",
    "                                'copy': copy.copy})\n",
    "    \n",
    "    n_ar, t_ar = clock.autorange()\n",
    "    \n",
    "    data = np.array(clock.repeat(repeat=7, number=n_ar)) / n_ar\n",
    "    \n",
    "    sort = pandas.DataFrame(data)\n",
    "    sort.to_pickle(\"python_sorted_times\")\n",
    "    \n",
    "    return np.min(data)"
   ]
  },
  {
   "cell_type": "code",
   "execution_count": 33,
   "metadata": {},
   "outputs": [],
   "source": [
    "def time_function3(sort_function, test_data):\n",
    "    \n",
    "    clock = timeit.Timer('func(copy(data))',\n",
    "                        globals={'func': sort_function, 'data': test_data,\n",
    "                                'copy': copy.copy})\n",
    "    \n",
    "    n_ar, t_ar = clock.autorange()\n",
    "    \n",
    "    data = np.array(clock.repeat(repeat=7, number=n_ar)) / n_ar\n",
    "    \n",
    "    sort = pandas.DataFrame(data)\n",
    "    sort.to_pickle(\"python_sort_times\")\n",
    "    \n",
    "    return np.min(data)"
   ]
  },
  {
   "cell_type": "code",
   "execution_count": 34,
   "metadata": {},
   "outputs": [],
   "source": [
    "def ascending_list_int(n):\n",
    "    \"\"\"\n",
    "    Returns a ascending list with values from 0 to n with length n\n",
    "    \"\"\"\n",
    "    List = [i for i in range(n)]\n",
    "    return List\n",
    "\n",
    "def descending_list_int(n):\n",
    "    \"\"\"\n",
    "    Returns a descending list with values from n to 0 with length n\n",
    "    \"\"\"\n",
    "    List = [i for i in range(n - 1, -1, -1)]\n",
    "    return List\n",
    "\n",
    "def random_list_int(n):\n",
    "    \"\"\"\n",
    "    Returns a list of random integers from -n to n with length n\n",
    "    \"\"\"\n",
    "    List = [random.randint(-n, n) for _ in range(n)]\n",
    "    return List\n",
    "  \n",
    "def random_list_float(n):\n",
    "    \"\"\"\n",
    "    Returns a list of length n with random float values from -n to n\n",
    "    \"\"\"\n",
    "    List = [random.uniform(-n, n) for _ in range(n)]\n",
    "    return List\n",
    "\n",
    "\n",
    "def random_charlist(n):\n",
    "    \"\"\"\n",
    "    Returns a list of length n with random characters\n",
    "    \"\"\"\n",
    "    List = [random.choice('abcdefghisjklmnopqrstuvwxyz') \n",
    "                 for _ in range(n)]\n",
    "    \n",
    "    return List\n",
    "\n",
    "test_data_list = [ascending_list_int, descending_list_int, random_list_int, random_list_float, random_charlist]"
   ]
  },
  {
   "cell_type": "code",
   "execution_count": 35,
   "metadata": {},
   "outputs": [],
   "source": [
    "test_sizes = [10, 100, 1000, 10000, 100000, 1000000, 10000000]\n",
    "\n",
    "def benchmark_function(sort_function):\n",
    "    data1 = [[], []]\n",
    "    data2 = [[], []]\n",
    "    data3 = [[], []]\n",
    "    data4 = [[], []]\n",
    "    data5 = [[], []]\n",
    "    for size in tqdm(test_sizes):\n",
    "        data1[0].append(size) \n",
    "        data1[1].append(time_function(sort_function,ascending_list_int(size)))\n",
    "        data2[0].append(size)\n",
    "        data2[1].append(time_function(sort_function,descending_list_int(size)))\n",
    "        data3[0].append(size)\n",
    "        data3[1].append(time_function(sort_function,random_list_int(size)))\n",
    "        data4[0].append(size)\n",
    "        data4[1].append(time_function(sort_function,random_list_float(size)))\n",
    "        data5[0].append(size)\n",
    "        data5[1].append(time_function(sort_function,random_charlist(size)))\n",
    "    \n",
    "    all_data = [data1, data2, data3, data4, data5]\n",
    "    \n",
    "    numpy_sort = pandas.DataFrame(all_data)\n",
    "    \n",
    "    numpy_sort.to_pickle(\"numpy_sort\")\n",
    "    \n",
    "    return all_data\n",
    "\n"
   ]
  },
  {
   "cell_type": "code",
   "execution_count": 36,
   "metadata": {},
   "outputs": [],
   "source": [
    "test_sizes = [10, 100, 1000, 10000, 100000, 1000000, 10000000]\n",
    "\n",
    "def benchmark_function2(sort_function):\n",
    "    data1 = [[], []]\n",
    "    data2 = [[], []]\n",
    "    data3 = [[], []]\n",
    "    data4 = [[], []]\n",
    "    data5 = [[], []]\n",
    "    for size in tqdm(test_sizes):\n",
    "        data1[0].append(size) \n",
    "        data1[1].append(time_function2(sort_function,ascending_list_int(size)))\n",
    "        data2[0].append(size)\n",
    "        data2[1].append(time_function2(sort_function,descending_list_int(size)))\n",
    "        data3[0].append(size)\n",
    "        data3[1].append(time_function2(sort_function,random_list_int(size)))\n",
    "        data4[0].append(size)\n",
    "        data4[1].append(time_function2(sort_function,random_list_float(size)))\n",
    "        data5[0].append(size)\n",
    "        data5[1].append(time_function2(sort_function,random_charlist(size)))\n",
    "    \n",
    "    all_data = [data1, data2, data3, data4, data5]\n",
    "    \n",
    "    python_sorted = pandas.DataFrame(all_data)\n",
    "    python_sorted.to_pickle(\"python_sorted\")\n",
    "    \n",
    "    return all_data"
   ]
  },
  {
   "cell_type": "code",
   "execution_count": 37,
   "metadata": {},
   "outputs": [
    {
     "name": "stderr",
     "output_type": "stream",
     "text": [
      "100%|██████████| 7/7 [03:28<00:00, 47.51s/it]\n",
      "100%|██████████| 7/7 [04:22<00:00, 63.00s/it]\n"
     ]
    }
   ],
   "source": [
    "benchmark_Numpy_sort = benchmark_function(np.sort)\n",
    "\n",
    "benchmark_Python_sort = benchmark_function2(sorted)"
   ]
  },
  {
   "cell_type": "code",
   "execution_count": null,
   "metadata": {},
   "outputs": [],
   "source": []
  }
 ],
 "metadata": {
  "kernelspec": {
   "display_name": "Python 3",
   "language": "python",
   "name": "python3"
  },
  "language_info": {
   "codemirror_mode": {
    "name": "ipython",
    "version": 3
   },
   "file_extension": ".py",
   "mimetype": "text/x-python",
   "name": "python",
   "nbconvert_exporter": "python",
   "pygments_lexer": "ipython3",
   "version": "3.7.3"
  }
 },
 "nbformat": 4,
 "nbformat_minor": 2
}
